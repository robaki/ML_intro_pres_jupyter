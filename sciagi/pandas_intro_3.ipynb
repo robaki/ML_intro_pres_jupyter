{
 "cells": [
  {
   "cell_type": "code",
   "execution_count": null,
   "metadata": {},
   "outputs": [],
   "source": [
    "import pandas as pd\n",
    "import numpy as np"
   ]
  },
  {
   "cell_type": "code",
   "execution_count": null,
   "metadata": {},
   "outputs": [],
   "source": [
    "df = pd.read_csv('data/train_bike_sharing.csv')\n",
    "df['datetime'] = pd.to_datetime(df['datetime'])"
   ]
  },
  {
   "cell_type": "code",
   "execution_count": null,
   "metadata": {},
   "outputs": [],
   "source": [
    "df['atemp_humidity'] = (df['atemp'] * df['humidity']) / 10 # maths on columns to create a new column\n",
    "df[['atemp', 'humidity', 'atemp_humidity']].head(2)"
   ]
  },
  {
   "cell_type": "code",
   "execution_count": null,
   "metadata": {},
   "outputs": [],
   "source": [
    "df['no_wind'] = df['windspeed'] != 0 # comparison\n",
    "df.head(2)"
   ]
  },
  {
   "cell_type": "code",
   "execution_count": null,
   "metadata": {},
   "outputs": [],
   "source": [
    "df['no_wind'] = (df['windspeed'] != 0 ).astype(int) # 0/1 is more compatible with plotting than True/False\n",
    "df.head(2)"
   ]
  },
  {
   "cell_type": "code",
   "execution_count": null,
   "metadata": {},
   "outputs": [],
   "source": [
    "# or = |, and = & (unlike in the rest of python)\n",
    "df['no_wind_and_hot'] = ((df['windspeed'] != 0 ) & (df['atemp'] > 20)).astype(int)\n",
    "df['no_wind_or_hot'] = ((df['windspeed'] != 0 ) | (df['atemp'] > 20)).astype(int)\n",
    "df.head(2)"
   ]
  },
  {
   "cell_type": "code",
   "execution_count": null,
   "metadata": {},
   "outputs": [],
   "source": [
    "# .shift(n) shifts a column by n forwards - useful when calculating/detecting differences in time\n",
    "\n",
    "df['diff_atemp'] = df['atemp'] - df['atemp'].shift(1)\n",
    "df[['atemp', 'diff_atemp']].head()"
   ]
  },
  {
   "cell_type": "code",
   "execution_count": null,
   "metadata": {},
   "outputs": [],
   "source": [
    "df['mean'] = df.mean(axis=1)\n",
    "df.head()"
   ]
  },
  {
   "cell_type": "code",
   "execution_count": null,
   "metadata": {},
   "outputs": [],
   "source": [
    "# we can use map to apply custom functions and pass additional arguments\n",
    "def weird_func(x, val_1, val_2):\n",
    "    if x < val_1:\n",
    "        return 'lalala'\n",
    "    elif x > val_2:\n",
    "        return 'blablabla'\n",
    "    else:\n",
    "        return 'wtf'\n",
    "    \n",
    "df['status'] = df['atemp_humidity'].map(lambda x: weird_func(x, 100, 1100))\n",
    "# df[['status', 'atemp_humidity']].head(100)"
   ]
  },
  {
   "cell_type": "code",
   "execution_count": null,
   "metadata": {},
   "outputs": [],
   "source": [
    "# df.apply() with axis=1 applies a function to rows\n",
    "df['status'] = df.apply(lambda row: weird_func(row['registered'], row['casual'], row['humidity']), axis=1)\n",
    "df[['registered', 'casual', 'humidity', 'status']].head()"
   ]
  },
  {
   "cell_type": "code",
   "execution_count": null,
   "metadata": {},
   "outputs": [],
   "source": [
    "# apply can also be used to create summaries of columns\n",
    "cols = ['season', 'holiday', 'workingday', 'weather', 'temp']\n",
    "df[cols].apply(lambda x: np.mean(x))"
   ]
  },
  {
   "cell_type": "code",
   "execution_count": null,
   "metadata": {},
   "outputs": [],
   "source": [
    "# selecting subset of df\n",
    "sub_df = df[df['season'] == 1].copy()\n",
    "# sub_df"
   ]
  },
  {
   "cell_type": "code",
   "execution_count": null,
   "metadata": {},
   "outputs": [],
   "source": [
    "# setting values on a subset of a data frame\n",
    "# df.loc[df['season'] == 1, 'blABL']\n",
    "df[df['season'] == 2].head(2)"
   ]
  },
  {
   "cell_type": "code",
   "execution_count": null,
   "metadata": {},
   "outputs": [],
   "source": [
    "# df.rolling(window, min_periods=None, center=False, win_type=None, on=None, axis=0, closed=None)\n",
    "# or series.rolling(...)\n",
    "df['smooth_atemp'] = df['atemp'].rolling(10, min_periods=3).mean() # some functions are builtin (more efficient)\n",
    "df['smooth_atemp'] = df['atemp'].rolling(10, min_periods=3).apply(lambda win: np.mean(win)) # can apply custom functions\n",
    "df[['atemp', 'smooth_atemp']].head(10)"
   ]
  },
  {
   "cell_type": "code",
   "execution_count": null,
   "metadata": {},
   "outputs": [],
   "source": [
    "# centering\n",
    "df['smooth_atemp'] = df['atemp'].rolling(10, center=True).mean()\n",
    "df[['atemp', 'smooth_atemp']].head(10)"
   ]
  },
  {
   "cell_type": "code",
   "execution_count": null,
   "metadata": {},
   "outputs": [],
   "source": [
    "# window type\n",
    "df['smooth_atemp'] = df['atemp'].rolling(10, center=True, min_periods=0, win_type='triang').mean() # some functions are builtin\n",
    "df[['atemp', 'smooth_atemp']].head(10)"
   ]
  },
  {
   "cell_type": "code",
   "execution_count": null,
   "metadata": {},
   "outputs": [],
   "source": [
    "# setting datetime as an index\n",
    "df.set_index('datetime', inplace=True)\n",
    "df.head()"
   ]
  },
  {
   "cell_type": "code",
   "execution_count": null,
   "metadata": {},
   "outputs": [],
   "source": [
    "# time-defined window\n",
    "df['smooth_atemp'] = df['atemp'].rolling('5H').mean() # default\n",
    "df['smooth_atemp_cent'] = df['atemp'].rolling('5H').mean().shift(-2.5, freq='H') # centering doesn't work with time windows\n",
    "\n",
    "df[['atemp', 'smooth_atemp', 'smooth_atemp_cent']].head(10)"
   ]
  },
  {
   "cell_type": "code",
   "execution_count": null,
   "metadata": {},
   "outputs": [],
   "source": [
    "# creating toy time-series\n",
    "index = pd.date_range('2018-05-24', periods=9, freq='min')\n",
    "s = pd.Series(range(9), index=index)\n",
    "s"
   ]
  },
  {
   "cell_type": "code",
   "execution_count": null,
   "metadata": {},
   "outputs": [],
   "source": [
    "# downsampling\n",
    "s.resample('3T').asfreq() # .sum(), etc."
   ]
  },
  {
   "cell_type": "code",
   "execution_count": null,
   "metadata": {},
   "outputs": [],
   "source": [
    "# upsampling\n",
    "s.resample('30S').asfreq()"
   ]
  },
  {
   "cell_type": "code",
   "execution_count": null,
   "metadata": {},
   "outputs": [],
   "source": [
    "# upsample and interpolate to fill blanks\n",
    "s.resample('30S').asfreq().interpolate()"
   ]
  },
  {
   "cell_type": "code",
   "execution_count": null,
   "metadata": {},
   "outputs": [],
   "source": [
    "df = pd.read_csv('data/train_bike_sharing.csv')\n",
    "df['datetime'] = pd.to_datetime(df['datetime'])\n",
    "\n",
    "# groupby \n",
    "grouped = df.groupby('season')\n",
    "grouped"
   ]
  },
  {
   "cell_type": "code",
   "execution_count": null,
   "metadata": {},
   "outputs": [],
   "source": [
    "df.columns"
   ]
  },
  {
   "cell_type": "code",
   "execution_count": null,
   "metadata": {},
   "outputs": [],
   "source": [
    "# for name, group in grouped:\n",
    "#     print('group name:', name, '\\n\\n\\n\\n', group)\n",
    "#     break"
   ]
  },
  {
   "cell_type": "code",
   "execution_count": null,
   "metadata": {},
   "outputs": [],
   "source": [
    "df['mean_atemp'] = df.groupby('season')['atemp'].transform(lambda x: np.mean(x))\n",
    "df[['season', 'mean_atemp']]"
   ]
  },
  {
   "cell_type": "code",
   "execution_count": null,
   "metadata": {},
   "outputs": [],
   "source": [
    "# groupby time and apply functions to get new df\n",
    "func_mapping = {\n",
    "    'windspeed':'mean',\n",
    "    'atemp':'median',\n",
    "    'holiday':'sum',\n",
    "}\n",
    "\n",
    "grouped_2 = df.groupby('season').agg(func_mapping)\n",
    "grouped_2"
   ]
  },
  {
   "cell_type": "code",
   "execution_count": null,
   "metadata": {},
   "outputs": [],
   "source": [
    "func_mapping = {\n",
    "    'windspeed':'mean',\n",
    "    'atemp':'median',\n",
    "    'count':'sum',\n",
    "}\n",
    "\n",
    "grouped_3 = df.groupby(pd.Grouper(key='datetime', freq='7D')).agg(func_mapping)\n",
    "grouped_3"
   ]
  }
 ],
 "metadata": {
  "kernelspec": {
   "display_name": "Python 3",
   "language": "python",
   "name": "python3"
  },
  "language_info": {
   "codemirror_mode": {
    "name": "ipython",
    "version": 3
   },
   "file_extension": ".py",
   "mimetype": "text/x-python",
   "name": "python",
   "nbconvert_exporter": "python",
   "pygments_lexer": "ipython3",
   "version": "3.5.2"
  }
 },
 "nbformat": 4,
 "nbformat_minor": 2
}
