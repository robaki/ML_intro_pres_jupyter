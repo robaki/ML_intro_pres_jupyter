{
 "cells": [
  {
   "cell_type": "code",
   "execution_count": null,
   "metadata": {},
   "outputs": [],
   "source": [
    "import pandas as pd\n",
    "import numpy as np\n",
    "import matplotlib.pyplot as plt\n",
    "\n",
    "from sklearn import preprocessing\n",
    "from sklearn import datasets\n",
    "from sklearn import metrics\n",
    "from sklearn.neighbors import KNeighborsClassifier\n",
    "from sklearn.linear_model import LinearRegression\n",
    "from sklearn.model_selection import train_test_split\n",
    "from sklearn.model_selection import cross_validate"
   ]
  },
  {
   "cell_type": "code",
   "execution_count": null,
   "metadata": {},
   "outputs": [],
   "source": [
    "# loading a build-in datatset from sklearn\n",
    "# contains data about iris flowers\n",
    "# the task is to learn how to recognise the type/specie? of flower based on dimensions\n",
    "iris = datasets.load_iris()\n",
    "columns = iris['feature_names']\n",
    "iris_df = pd.DataFrame(iris.data, columns=columns)\n",
    "iris_df['class'] = pd.Series(iris.target)"
   ]
  },
  {
   "cell_type": "code",
   "execution_count": null,
   "metadata": {},
   "outputs": [],
   "source": [
    "# using train_test_split to split data randomly into train and test sets\n",
    "# X is an array containing features, y contains classes / lables (types of flowers)\n",
    "X_train, X_test, y_train, y_test = train_test_split(\n",
    "    iris_df[columns], iris_df['class'], stratify=iris_df['class'], test_size=0.4)\n",
    "\n",
    "# preprocessing - scaling to 0, 1 range\n",
    "scaler = preprocessing.MinMaxScaler(feature_range=(0, 1), copy=True)\n",
    "scaler.fit(X_train)\n",
    "X_train = scaler.transform(X_train)\n",
    "X_test = scaler.transform(X_test) # X_test scaled using the same parameters as X_train"
   ]
  },
  {
   "cell_type": "code",
   "execution_count": null,
   "metadata": {},
   "outputs": [],
   "source": [
    "# creating and training (fitting) a K nearest neighbours classifier\n",
    "clf = KNeighborsClassifier(n_neighbors=5, weights='distance', metric='minkowski')\n",
    "clf.fit(X_train, y_train)"
   ]
  },
  {
   "cell_type": "code",
   "execution_count": null,
   "metadata": {},
   "outputs": [],
   "source": [
    "# getting predicted classes for the test data\n",
    "y_pred = clf.predict(X_test)\n",
    "\n",
    "# one of the ways to check the performance of a classifier is to analyse a confusion matrix\n",
    "# it shows the overlap between actual (y_test) and predicted classes/labels\n",
    "metrics.confusion_matrix(y_test, y_pred, labels=[0, 1, 2])"
   ]
  }
 ],
 "metadata": {
  "kernelspec": {
   "display_name": "Python 3",
   "language": "python",
   "name": "python3"
  },
  "language_info": {
   "codemirror_mode": {
    "name": "ipython",
    "version": 3
   },
   "file_extension": ".py",
   "mimetype": "text/x-python",
   "name": "python",
   "nbconvert_exporter": "python",
   "pygments_lexer": "ipython3",
   "version": "3.5.2"
  }
 },
 "nbformat": 4,
 "nbformat_minor": 2
}
